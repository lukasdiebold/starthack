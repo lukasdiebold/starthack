{
 "cells": [
  {
   "cell_type": "markdown",
   "metadata": {},
   "source": [
    "# Focus Areas Analysis\n",
    "\n",
    "This notebook extracts and displays all distinct values from the \"Focus Areas\" column in the St. Gallen innovation ecosystem dataset."
   ]
  },
  {
   "cell_type": "code",
   "execution_count": 3,
   "metadata": {},
   "outputs": [],
   "source": [
    "# Import necessary libraries\n",
    "import pandas as pd\n",
    "import matplotlib.pyplot as plt\n",
    "import seaborn as sns\n",
    "from collections import Counter"
   ]
  },
  {
   "cell_type": "code",
   "execution_count": 4,
   "metadata": {},
   "outputs": [
    {
     "data": {
      "application/vnd.microsoft.datawrangler.viewer.v0+json": {
       "columns": [
        {
         "name": "index",
         "rawType": "int64",
         "type": "integer"
        },
        {
         "name": "Category",
         "rawType": "object",
         "type": "string"
        },
        {
         "name": "Institution",
         "rawType": "object",
         "type": "string"
        },
        {
         "name": "Name",
         "rawType": "object",
         "type": "string"
        },
        {
         "name": "Description",
         "rawType": "object",
         "type": "string"
        },
        {
         "name": "Focus Areas",
         "rawType": "object",
         "type": "string"
        },
        {
         "name": "Contact",
         "rawType": "object",
         "type": "string"
        },
        {
         "name": "Website",
         "rawType": "object",
         "type": "string"
        }
       ],
       "conversionMethod": "pd.DataFrame",
       "ref": "9f4955f2-19f8-47ed-a6cb-3356c1b7dd79",
       "rows": [
        [
         "0",
         "Academia",
         "University of St.Gallen (HSG)",
         "School of Management (SoM-HSG)",
         "Research and teaching in business administration, strategy, and innovation.",
         "Business Strategy, Innovation, Leadership",
         "som@unisg.ch",
         "https://som.unisg.ch"
        ],
        [
         "1",
         "Academia",
         "University of St.Gallen (HSG)",
         "School of Finance (SoF-HSG)",
         "Research on financial markets, banking, corporate finance, and risk analysis.",
         "Banking, Corporate Finance, Risk Management",
         "sof@unisg.ch",
         "https://sof.unisg.ch"
        ],
        [
         "2",
         "Academia",
         "University of St.Gallen (HSG)",
         "School of Economics and Political Science (SEPS-HSG)",
         "Research on economic policy, macroeconomics, and global markets.",
         "Economic Policy, Macroeconomics, International Economics",
         "seps@unisg.ch",
         "https://seps.unisg.ch"
        ],
        [
         "3",
         "Academia",
         "University of St.Gallen (HSG)",
         "School of Law (LS-HSG)",
         "Legal research and education with a focus on business law.",
         "Business Law, Technology Law, Corporate Law",
         "law@unisg.ch",
         "https://law.unisg.ch"
        ],
        [
         "4",
         "Academia",
         "University of St.Gallen (HSG)",
         "School of Humanities and Social Sciences (SHSS-HSG)",
         "Interdisciplinary research on society, ethics, and culture.",
         "Ethics, Philosophy, Social Innovation",
         "shss@unisg.ch",
         "https://shss.unisg.ch"
        ]
       ],
       "shape": {
        "columns": 7,
        "rows": 5
       }
      },
      "text/html": [
       "<div>\n",
       "<style scoped>\n",
       "    .dataframe tbody tr th:only-of-type {\n",
       "        vertical-align: middle;\n",
       "    }\n",
       "\n",
       "    .dataframe tbody tr th {\n",
       "        vertical-align: top;\n",
       "    }\n",
       "\n",
       "    .dataframe thead th {\n",
       "        text-align: right;\n",
       "    }\n",
       "</style>\n",
       "<table border=\"1\" class=\"dataframe\">\n",
       "  <thead>\n",
       "    <tr style=\"text-align: right;\">\n",
       "      <th></th>\n",
       "      <th>Category</th>\n",
       "      <th>Institution</th>\n",
       "      <th>Name</th>\n",
       "      <th>Description</th>\n",
       "      <th>Focus Areas</th>\n",
       "      <th>Contact</th>\n",
       "      <th>Website</th>\n",
       "    </tr>\n",
       "  </thead>\n",
       "  <tbody>\n",
       "    <tr>\n",
       "      <th>0</th>\n",
       "      <td>Academia</td>\n",
       "      <td>University of St.Gallen (HSG)</td>\n",
       "      <td>School of Management (SoM-HSG)</td>\n",
       "      <td>Research and teaching in business administrati...</td>\n",
       "      <td>Business Strategy, Innovation, Leadership</td>\n",
       "      <td>som@unisg.ch</td>\n",
       "      <td>https://som.unisg.ch</td>\n",
       "    </tr>\n",
       "    <tr>\n",
       "      <th>1</th>\n",
       "      <td>Academia</td>\n",
       "      <td>University of St.Gallen (HSG)</td>\n",
       "      <td>School of Finance (SoF-HSG)</td>\n",
       "      <td>Research on financial markets, banking, corpor...</td>\n",
       "      <td>Banking, Corporate Finance, Risk Management</td>\n",
       "      <td>sof@unisg.ch</td>\n",
       "      <td>https://sof.unisg.ch</td>\n",
       "    </tr>\n",
       "    <tr>\n",
       "      <th>2</th>\n",
       "      <td>Academia</td>\n",
       "      <td>University of St.Gallen (HSG)</td>\n",
       "      <td>School of Economics and Political Science (SEP...</td>\n",
       "      <td>Research on economic policy, macroeconomics, a...</td>\n",
       "      <td>Economic Policy, Macroeconomics, International...</td>\n",
       "      <td>seps@unisg.ch</td>\n",
       "      <td>https://seps.unisg.ch</td>\n",
       "    </tr>\n",
       "    <tr>\n",
       "      <th>3</th>\n",
       "      <td>Academia</td>\n",
       "      <td>University of St.Gallen (HSG)</td>\n",
       "      <td>School of Law (LS-HSG)</td>\n",
       "      <td>Legal research and education with a focus on b...</td>\n",
       "      <td>Business Law, Technology Law, Corporate Law</td>\n",
       "      <td>law@unisg.ch</td>\n",
       "      <td>https://law.unisg.ch</td>\n",
       "    </tr>\n",
       "    <tr>\n",
       "      <th>4</th>\n",
       "      <td>Academia</td>\n",
       "      <td>University of St.Gallen (HSG)</td>\n",
       "      <td>School of Humanities and Social Sciences (SHSS...</td>\n",
       "      <td>Interdisciplinary research on society, ethics,...</td>\n",
       "      <td>Ethics, Philosophy, Social Innovation</td>\n",
       "      <td>shss@unisg.ch</td>\n",
       "      <td>https://shss.unisg.ch</td>\n",
       "    </tr>\n",
       "  </tbody>\n",
       "</table>\n",
       "</div>"
      ],
      "text/plain": [
       "   Category                    Institution  \\\n",
       "0  Academia  University of St.Gallen (HSG)   \n",
       "1  Academia  University of St.Gallen (HSG)   \n",
       "2  Academia  University of St.Gallen (HSG)   \n",
       "3  Academia  University of St.Gallen (HSG)   \n",
       "4  Academia  University of St.Gallen (HSG)   \n",
       "\n",
       "                                                Name  \\\n",
       "0                     School of Management (SoM-HSG)   \n",
       "1                        School of Finance (SoF-HSG)   \n",
       "2  School of Economics and Political Science (SEP...   \n",
       "3                             School of Law (LS-HSG)   \n",
       "4  School of Humanities and Social Sciences (SHSS...   \n",
       "\n",
       "                                         Description  \\\n",
       "0  Research and teaching in business administrati...   \n",
       "1  Research on financial markets, banking, corpor...   \n",
       "2  Research on economic policy, macroeconomics, a...   \n",
       "3  Legal research and education with a focus on b...   \n",
       "4  Interdisciplinary research on society, ethics,...   \n",
       "\n",
       "                                         Focus Areas        Contact  \\\n",
       "0          Business Strategy, Innovation, Leadership   som@unisg.ch   \n",
       "1        Banking, Corporate Finance, Risk Management   sof@unisg.ch   \n",
       "2  Economic Policy, Macroeconomics, International...  seps@unisg.ch   \n",
       "3        Business Law, Technology Law, Corporate Law   law@unisg.ch   \n",
       "4              Ethics, Philosophy, Social Innovation  shss@unisg.ch   \n",
       "\n",
       "                 Website  \n",
       "0   https://som.unisg.ch  \n",
       "1   https://sof.unisg.ch  \n",
       "2  https://seps.unisg.ch  \n",
       "3   https://law.unisg.ch  \n",
       "4  https://shss.unisg.ch  "
      ]
     },
     "execution_count": 4,
     "metadata": {},
     "output_type": "execute_result"
    }
   ],
   "source": [
    "# Load the dataset\n",
    "file_path = 'START Hack 25_Canton of St.Gallen_dataset innovation ecosystem.csv'\n",
    "df = pd.read_csv(file_path)\n",
    "\n",
    "# Display the first few rows to understand the data structure\n",
    "df.head()"
   ]
  },
  {
   "cell_type": "code",
   "execution_count": 5,
   "metadata": {},
   "outputs": [
    {
     "name": "stdout",
     "output_type": "stream",
     "text": [
      "Number of distinct focus areas: 177\n",
      "\n",
      "All distinct focus areas:\n",
      "- Accounting\n",
      "- Additive Manufacturing\n",
      "- Artificial Intelligence\n",
      "- Automation\n",
      "- Banking\n",
      "- Biomedical Imaging\n",
      "- Biotechnology\n",
      "- Business Administration\n",
      "- Business Ethics\n",
      "- Business Growth\n",
      "- Business Law\n",
      "- Business Models\n",
      "- Business Networking\n",
      "- Business Strategy\n",
      "- Cancer Research\n",
      "- Circular Economy Research\n",
      "- Civil Engineering\n",
      "- Climate Protection\n",
      "- Clinical Neurology\n",
      "- Clinical Study Design\n",
      "- Clinical Support\n",
      "- Clinical Trials\n",
      "- Coating Technologies\n",
      "- Collaborative Innovation\n",
      "- Commercialization\n",
      "- Compliance\n",
      "- Consulting\n",
      "- Consumer Behavior\n",
      "- Corporate Finance\n",
      "- Corporate Governance\n",
      "- Corporate Law\n",
      "- Corporate Social Responsibility\n",
      "- Corporate Strategy\n",
      "- Cross-border Innovation\n",
      "- Data Analysis\n",
      "- Data Science\n",
      "- Decision Psychology\n",
      "- Digital Health\n",
      "- Digital Innovation\n",
      "- Digital Sustainability\n",
      "- Digital Transformation\n",
      "- Digitalization\n",
      "- E-Health\n",
      "- Economic Information\n",
      "- Economic Policy\n",
      "- Education\n",
      "- Education & Training\n",
      "- Electrical Engineering\n",
      "- Electronic Applications\n",
      "- Emerging Markets\n",
      "- Energy Conversion\n",
      "- Energy Storage\n",
      "- Energy-efficient Buildings\n",
      "- Environmental Impact Reduction\n",
      "- Environmental Technologies\n",
      "- Environmental Technology\n",
      "- Ethics\n",
      "- Export Consulting\n",
      "- Family Businesses\n",
      "- Feasibility Studies\n",
      "- Finance\n",
      "- Financial Control\n",
      "- Financial Markets\n",
      "- Food Innovation\n",
      "- Further Education\n",
      "- Global Collaboration\n",
      "- HR Management\n",
      "- Haematology\n",
      "- Hand Injuries\n",
      "- Healthcare Industry\n",
      "- Healthcare Research\n",
      "- High Voltage Engineering\n",
      "- High-Precision Manufacturing\n",
      "- ICT\n",
      "- IT Strategy\n",
      "- Idea Validation\n",
      "- Immunobiology\n",
      "- Immunological Research\n",
      "- Implants\n",
      "- Inclusion\n",
      "- Independent Research\n",
      "- Industry Collaboration\n",
      "- Industry Representation\n",
      "- Injection Molding\n",
      "- Innovation\n",
      "- Innovation Strategies\n",
      "- Interest Representation\n",
      "- Interface Phenomena\n",
      "- International Business\n",
      "- International Economics\n",
      "- International Partnerships\n",
      "- Landscape Architecture\n",
      "- Latin America\n",
      "- Law\n",
      "- Leadership\n",
      "- Legal Advice\n",
      "- Logistics\n",
      "- Macroeconomics\n",
      "- Management\n",
      "- Manufacturing Technology\n",
      "- Market Analysis\n",
      "- Market Entry\n",
      "- Market Expansion\n",
      "- Materials Science\n",
      "- Mechanical Engineering\n",
      "- Mechatronics\n",
      "- Medical Technology\n",
      "- Microelectronics\n",
      "- Microsurgical Procedures\n",
      "- Mobility\n",
      "- Nanoscale Materials\n",
      "- Nanostructured Materials\n",
      "- Networking\n",
      "- Networking Events\n",
      "- Neurodegenerative Diseases\n",
      "- Neurological Disorders\n",
      "- Nursing Science\n",
      "- Oncology\n",
      "- Optical Coatings\n",
      "- Organization\n",
      "- Organizational Development\n",
      "- Philosophy\n",
      "- Photonics\n",
      "- Policy Representation\n",
      "- Polymer Materials\n",
      "- Precision Medicine\n",
      "- Process Optimization\n",
      "- Process Upscaling\n",
      "- Product Development\n",
      "- Product Innovation\n",
      "- Product Launch\n",
      "- Production Management\n",
      "- Project Implementation\n",
      "- Reconstructive Surgery\n",
      "- Recycling\n",
      "- Regulatory Compliance\n",
      "- Renewable Energies\n",
      "- Research Collaboration\n",
      "- Research Commercialization\n",
      "- Risk Management\n",
      "- Robotics\n",
      "- SMEs\n",
      "- Semiconductor Technology\n",
      "- Sensor Technologies\n",
      "- Sensor Technology\n",
      "- Service Development\n",
      "- Service Innovation\n",
      "- Signal Processing\n",
      "- Smart Cities\n",
      "- Smart City Projects\n",
      "- Smart Infrastructure\n",
      "- Social Innovation\n",
      "- Social Partnership\n",
      "- Social Policy\n",
      "- Social Work\n",
      "- Software Development\n",
      "- Startup Support\n",
      "- Strategy\n",
      "- Supply Chain Management\n",
      "- Sustainability\n",
      "- Sustainability Transformations\n",
      "- Sustainable Business Models\n",
      "- Sustainable Construction\n",
      "- Sustainable Energy\n",
      "- Systemic Solutions\n",
      "- Talent Development\n",
      "- Technical Infrastructure\n",
      "- Technology\n",
      "- Technology Development\n",
      "- Technology Law\n",
      "- Technology Management\n",
      "- Traffic Engineering\n",
      "- Transdisciplinary Research\n",
      "- Translational Research\n",
      "- Urban Development\n",
      "- Urban Sustainability\n",
      "- Wearable Sensors\n"
     ]
    }
   ],
   "source": [
    "# Extract all individual focus areas from the comma-separated list\n",
    "all_focus_areas = []\n",
    "for areas in df['Focus Areas']:\n",
    "    # Split by comma and remove any leading/trailing whitespace\n",
    "    focus_list = [area.strip() for area in areas.split(',')]\n",
    "    all_focus_areas.extend(focus_list)\n",
    "\n",
    "# Get distinct focus areas by converting to a set and then back to a sorted list\n",
    "distinct_focus_areas = sorted(set(all_focus_areas))\n",
    "\n",
    "# Print the number of distinct focus areas\n",
    "print(f\"Number of distinct focus areas: {len(distinct_focus_areas)}\")\n",
    "\n",
    "# Print all distinct focus areas\n",
    "print(\"\\nAll distinct focus areas:\")\n",
    "for area in distinct_focus_areas:\n",
    "    print(f\"- {area}\")"
   ]
  },
  {
   "cell_type": "code",
   "execution_count": 6,
   "metadata": {},
   "outputs": [
    {
     "data": {
      "application/vnd.microsoft.datawrangler.viewer.v0+json": {
       "columns": [
        {
         "name": "index",
         "rawType": "int64",
         "type": "integer"
        },
        {
         "name": "Focus Area",
         "rawType": "object",
         "type": "string"
        },
        {
         "name": "Count",
         "rawType": "int64",
         "type": "integer"
        }
       ],
       "conversionMethod": "pd.DataFrame",
       "ref": "7cb032b7-524a-48cc-9b11-edc858a46a19",
       "rows": [
        [
         "0",
         "Process Optimization",
         "3"
        ],
        [
         "1",
         "Corporate Strategy",
         "3"
        ],
        [
         "2",
         "Business Models",
         "2"
        ],
        [
         "3",
         "Technology",
         "2"
        ],
        [
         "4",
         "Research Collaboration",
         "2"
        ],
        [
         "5",
         "Digitalization",
         "2"
        ],
        [
         "6",
         "Organizational Development",
         "2"
        ],
        [
         "7",
         "Innovation",
         "2"
        ],
        [
         "8",
         "Data Science",
         "2"
        ],
        [
         "9",
         "Artificial Intelligence",
         "2"
        ],
        [
         "10",
         "Product Innovation",
         "2"
        ],
        [
         "11",
         "Digital Transformation",
         "2"
        ],
        [
         "12",
         "Family Businesses",
         "2"
        ],
        [
         "13",
         "Further Education",
         "2"
        ],
        [
         "14",
         "Automation",
         "2"
        ],
        [
         "15",
         "Macroeconomics",
         "2"
        ],
        [
         "16",
         "Economic Policy",
         "2"
        ],
        [
         "17",
         "Corporate Finance",
         "2"
        ],
        [
         "18",
         "Banking",
         "2"
        ],
        [
         "19",
         "Leadership",
         "2"
        ],
        [
         "20",
         "SMEs",
         "2"
        ],
        [
         "21",
         "Global Collaboration",
         "1"
        ],
        [
         "22",
         "Business Growth",
         "1"
        ],
        [
         "23",
         "Market Expansion",
         "1"
        ],
        [
         "24",
         "Product Launch",
         "1"
        ],
        [
         "25",
         "Business Strategy",
         "1"
        ],
        [
         "26",
         "Cross-border Innovation",
         "1"
        ],
        [
         "27",
         "International Partnerships",
         "1"
        ],
        [
         "28",
         "Wearable Sensors",
         "1"
        ],
        [
         "29",
         "Precision Medicine",
         "1"
        ],
        [
         "30",
         "Implants",
         "1"
        ],
        [
         "31",
         "Product Development",
         "1"
        ],
        [
         "32",
         "Biomedical Imaging",
         "1"
        ],
        [
         "33",
         "Nanostructured Materials",
         "1"
        ],
        [
         "34",
         "Additive Manufacturing",
         "1"
        ],
        [
         "35",
         "Coating Technologies",
         "1"
        ],
        [
         "36",
         "Service Innovation",
         "1"
        ],
        [
         "37",
         "Idea Validation",
         "1"
        ],
        [
         "38",
         "Research Commercialization",
         "1"
        ],
        [
         "39",
         "Service Development",
         "1"
        ],
        [
         "40",
         "Policy Representation",
         "1"
        ],
        [
         "41",
         "Optical Coatings",
         "1"
        ],
        [
         "42",
         "High-Precision Manufacturing",
         "1"
        ],
        [
         "43",
         "Digital Innovation",
         "1"
        ],
        [
         "44",
         "ICT",
         "1"
        ],
        [
         "45",
         "Talent Development",
         "1"
        ],
        [
         "46",
         "Independent Research",
         "1"
        ],
        [
         "47",
         "Transdisciplinary Research",
         "1"
        ],
        [
         "48",
         "Commercialization",
         "1"
        ],
        [
         "49",
         "Market Entry",
         "1"
        ]
       ],
       "shape": {
        "columns": 2,
        "rows": 177
       }
      },
      "text/html": [
       "<div>\n",
       "<style scoped>\n",
       "    .dataframe tbody tr th:only-of-type {\n",
       "        vertical-align: middle;\n",
       "    }\n",
       "\n",
       "    .dataframe tbody tr th {\n",
       "        vertical-align: top;\n",
       "    }\n",
       "\n",
       "    .dataframe thead th {\n",
       "        text-align: right;\n",
       "    }\n",
       "</style>\n",
       "<table border=\"1\" class=\"dataframe\">\n",
       "  <thead>\n",
       "    <tr style=\"text-align: right;\">\n",
       "      <th></th>\n",
       "      <th>Focus Area</th>\n",
       "      <th>Count</th>\n",
       "    </tr>\n",
       "  </thead>\n",
       "  <tbody>\n",
       "    <tr>\n",
       "      <th>0</th>\n",
       "      <td>Process Optimization</td>\n",
       "      <td>3</td>\n",
       "    </tr>\n",
       "    <tr>\n",
       "      <th>1</th>\n",
       "      <td>Corporate Strategy</td>\n",
       "      <td>3</td>\n",
       "    </tr>\n",
       "    <tr>\n",
       "      <th>2</th>\n",
       "      <td>Business Models</td>\n",
       "      <td>2</td>\n",
       "    </tr>\n",
       "    <tr>\n",
       "      <th>3</th>\n",
       "      <td>Technology</td>\n",
       "      <td>2</td>\n",
       "    </tr>\n",
       "    <tr>\n",
       "      <th>4</th>\n",
       "      <td>Research Collaboration</td>\n",
       "      <td>2</td>\n",
       "    </tr>\n",
       "    <tr>\n",
       "      <th>...</th>\n",
       "      <td>...</td>\n",
       "      <td>...</td>\n",
       "    </tr>\n",
       "    <tr>\n",
       "      <th>172</th>\n",
       "      <td>Data Analysis</td>\n",
       "      <td>1</td>\n",
       "    </tr>\n",
       "    <tr>\n",
       "      <th>173</th>\n",
       "      <td>E-Health</td>\n",
       "      <td>1</td>\n",
       "    </tr>\n",
       "    <tr>\n",
       "      <th>174</th>\n",
       "      <td>Mechatronics</td>\n",
       "      <td>1</td>\n",
       "    </tr>\n",
       "    <tr>\n",
       "      <th>175</th>\n",
       "      <td>Robotics</td>\n",
       "      <td>1</td>\n",
       "    </tr>\n",
       "    <tr>\n",
       "      <th>176</th>\n",
       "      <td>Social Partnership</td>\n",
       "      <td>1</td>\n",
       "    </tr>\n",
       "  </tbody>\n",
       "</table>\n",
       "<p>177 rows × 2 columns</p>\n",
       "</div>"
      ],
      "text/plain": [
       "                 Focus Area  Count\n",
       "0      Process Optimization      3\n",
       "1        Corporate Strategy      3\n",
       "2           Business Models      2\n",
       "3                Technology      2\n",
       "4    Research Collaboration      2\n",
       "..                      ...    ...\n",
       "172           Data Analysis      1\n",
       "173                E-Health      1\n",
       "174            Mechatronics      1\n",
       "175                Robotics      1\n",
       "176      Social Partnership      1\n",
       "\n",
       "[177 rows x 2 columns]"
      ]
     },
     "execution_count": 6,
     "metadata": {},
     "output_type": "execute_result"
    }
   ],
   "source": [
    "# Count occurrences of each focus area\n",
    "focus_counts = Counter(all_focus_areas)\n",
    "\n",
    "# Convert to DataFrame for easier visualization\n",
    "focus_df = pd.DataFrame(list(focus_counts.items()), columns=['Focus Area', 'Count'])\n",
    "focus_df = focus_df.sort_values(by='Count', ascending=False).reset_index(drop=True)\n",
    "\n",
    "# Display the frequency table\n",
    "focus_df"
   ]
  },
  {
   "cell_type": "code",
   "execution_count": 7,
   "metadata": {},
   "outputs": [
    {
     "data": {
      "image/png": "[encoded data removed]",
      "text/plain": [
       "<Figure size 1200x800 with 1 Axes>"
      ]
     },
     "metadata": {},
     "output_type": "display_data"
    }
   ],
   "source": [
    "# Visualize the top 20 most common focus areas\n",
    "plt.figure(figsize=(12, 8))\n",
    "top_20 = focus_df.head(20)\n",
    "sns.barplot(x='Count', y='Focus Area', data=top_20)\n",
    "plt.title('Top 20 Most Common Focus Areas')\n",
    "plt.xlabel('Count')\n",
    "plt.tight_layout()\n",
    "plt.show()"
   ]
  },
  {
   "cell_type": "code",
   "execution_count": 8,
   "metadata": {},
   "outputs": [
    {
     "name": "stdout",
     "output_type": "stream",
     "text": [
      "Potential similar focus areas that might be duplicates:\n",
      "'Biotechnology' is similar to: 'Technology'\n",
      "'Corporate Finance' is similar to: 'Corporate Governance'\n",
      "'Corporate Governance' is similar to: 'Corporate Finance'\n",
      "'Digital Innovation' is similar to: 'Digitalization'\n",
      "'Digitalization' is similar to: 'Digital Innovation'\n",
      "'Electrical Engineering' is similar to: 'Mechanical Engineering'\n",
      "'Environmental Technologies' is similar to: 'Environmental Technology'\n",
      "'Environmental Technology' is similar to: 'Environmental Technologies'\n",
      "'HR Management' is similar to: 'Management', 'Risk Management'\n",
      "'IT Strategy' is similar to: 'Strategy'\n",
      "'Industry Representation' is similar to: 'Interest Representation'\n",
      "'Interest Representation' is similar to: 'Industry Representation'\n",
      "'Management' is similar to: 'HR Management'\n",
      "'Mechanical Engineering' is similar to: 'Electrical Engineering'\n",
      "'Risk Management' is similar to: 'HR Management'\n",
      "'Sensor Technologies' is similar to: 'Sensor Technology'\n",
      "'Sensor Technology' is similar to: 'Sensor Technologies'\n",
      "'Strategy' is similar to: 'IT Strategy'\n",
      "'Sustainability' is similar to: 'Urban Sustainability'\n",
      "'Technology' is similar to: 'Biotechnology', 'Technology Law'\n",
      "'Technology Law' is similar to: 'Technology'\n",
      "'Urban Sustainability' is similar to: 'Sustainability'\n"
     ]
    }
   ],
   "source": [
    "# Check for similar focus areas that might be duplicates with slight variations\n",
    "import difflib\n",
    "\n",
    "# Find potential similar focus areas\n",
    "similar_areas = []\n",
    "for i, area1 in enumerate(distinct_focus_areas):\n",
    "    matches = []\n",
    "    for j, area2 in enumerate(distinct_focus_areas):\n",
    "        if i != j and difflib.SequenceMatcher(None, area1.lower(), area2.lower()).ratio() > 0.8:\n",
    "            matches.append(area2)\n",
    "    if matches:\n",
    "        similar_areas.append((area1, matches))\n",
    "\n",
    "# Print potential duplicate focus areas\n",
    "if similar_areas:\n",
    "    print(\"Potential similar focus areas that might be duplicates:\")\n",
    "    for area, matches in similar_areas:\n",
    "        print(f\"'{area}' is similar to: {', '.join([f\"'{m}'\" for m in matches])}\")\n",
    "else:\n",
    "    print(\"No potential duplicate focus areas found.\")"
   ]
  },
  {
   "cell_type": "markdown",
   "metadata": {},
   "source": [
    "## Categorizing Focus Areas\n",
    "\n",
    "Let's create some high-level categories for all the focus areas to get a better understanding of the main themes."
   ]
  },
  {
   "cell_type": "code",
   "execution_count": 9,
   "metadata": {},
   "outputs": [
    {
     "data": {
      "image/png": "[encoded data removed]",
      "text/plain": [
       "<Figure size 1200x600 with 1 Axes>"
      ]
     },
     "metadata": {},
     "output_type": "display_data"
    }
   ],
   "source": [
    "# Define some high-level categories and keywords associated with them\n",
    "categories = {\n",
    "    'Technology & Engineering': ['Engineering', 'Technology', 'Manufacturing', 'Automation', 'Robotics', 'Electrical', 'Mechanical', 'Sensor', 'Semiconductor'],\n",
    "    'Digital & IT': ['Digital', 'IT', 'Software', 'Data', 'Artificial Intelligence', 'AI', 'Computer', 'ICT'],\n",
    "    'Business & Management': ['Business', 'Management', 'Strategy', 'Corporate', 'Leadership', 'Organization'],\n",
    "    'Finance & Economics': ['Finance', 'Economic', 'Banking', 'Corporate Finance', 'Financial'],\n",
    "    'Healthcare & Medicine': ['Health', 'Medical', 'Nursing', 'Healthcare', 'Clinical'],\n",
    "    'Innovation & Research': ['Innovation', 'Research', 'Development', 'R&D'],\n",
    "    'Sustainability & Environment': ['Sustainable', 'Environment', 'Climate', 'Renewable', 'Recycling'],\n",
    "    'Education & Training': ['Education', 'Training', 'Teaching', 'Further Education'],\n",
    "    'Social Sciences': ['Social', 'Society', 'Ethics', 'Philosophy'],\n",
    "    'Law & Compliance': ['Law', 'Legal', 'Compliance', 'Corporate Law']\n",
    "}\n",
    "\n",
    "# Function to categorize a focus area\n",
    "def categorize_focus_area(area):\n",
    "    for category, keywords in categories.items():\n",
    "        if any(keyword.lower() in area.lower() for keyword in keywords):\n",
    "            return category\n",
    "    return 'Other'\n",
    "\n",
    "# Categorize all focus areas\n",
    "focus_df['Category'] = focus_df['Focus Area'].apply(categorize_focus_area)\n",
    "\n",
    "# Count by category\n",
    "category_counts = focus_df.groupby('Category')['Count'].sum().sort_values(ascending=False)\n",
    "\n",
    "# Visualize categories\n",
    "plt.figure(figsize=(12, 6))\n",
    "sns.barplot(x=category_counts.index, y=category_counts.values)\n",
    "plt.title('Focus Areas by High-Level Category')\n",
    "plt.xlabel('Category')\n",
    "plt.ylabel('Total Count')\n",
    "plt.xticks(rotation=45, ha='right')\n",
    "plt.tight_layout()\n",
    "plt.show()"
   ]
  },
  {
   "cell_type": "code",
   "execution_count": 10,
   "metadata": {},
   "outputs": [
    {
     "name": "stdout",
     "output_type": "stream",
     "text": [
      "Exported all distinct focus areas to 'distinct_focus_areas.csv'\n"
     ]
    }
   ],
   "source": [
    "# Export all distinct focus areas to a CSV file for further analysis\n",
    "focus_df.to_csv('distinct_focus_areas.csv', index=False)\n",
    "print(\"Exported all distinct focus areas to 'distinct_focus_areas.csv'\")"
   ]
  }
 ],
 "metadata": {
  "kernelspec": {
   "display_name": "start_hack",
   "language": "python",
   "name": "python3"
  },
  "language_info": {
   "codemirror_mode": {
    "name": "ipython",
    "version": 3
   },
   "file_extension": ".py",
   "mimetype": "text/x-python",
   "name": "python",
   "nbconvert_exporter": "python",
   "pygments_lexer": "ipython3",
   "version": "3.13.2"
  }
 },
 "nbformat": 4,
 "nbformat_minor": 4
}
