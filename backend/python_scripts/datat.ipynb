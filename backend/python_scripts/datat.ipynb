{
 "cells": [
  {
   "cell_type": "code",
   "execution_count": null,
   "metadata": {},
   "outputs": [],
   "source": []
  },
  {
   "cell_type": "code",
   "execution_count": 1,
   "metadata": {},
   "outputs": [],
   "source": [
    "import pandas as pd"
   ]
  },
  {
   "cell_type": "code",
   "execution_count": 2,
   "metadata": {},
   "outputs": [
    {
     "name": "stdout",
     "output_type": "stream",
     "text": [
      "Dataset Shape: (65, 7)\n"
     ]
    },
    {
     "data": {
      "application/vnd.microsoft.datawrangler.viewer.v0+json": {
       "columns": [
        {
         "name": "index",
         "rawType": "int64",
         "type": "integer"
        },
        {
         "name": "Category",
         "rawType": "object",
         "type": "string"
        },
        {
         "name": "Institution",
         "rawType": "object",
         "type": "string"
        },
        {
         "name": "Name",
         "rawType": "object",
         "type": "string"
        },
        {
         "name": "Description",
         "rawType": "object",
         "type": "string"
        },
        {
         "name": "Focus Areas",
         "rawType": "object",
         "type": "string"
        },
        {
         "name": "Contact",
         "rawType": "object",
         "type": "string"
        },
        {
         "name": "Website",
         "rawType": "object",
         "type": "string"
        }
       ],
       "conversionMethod": "pd.DataFrame",
       "ref": "7e97ac43-1148-461d-810c-eba8f6c597f4",
       "rows": [
        [
         "0",
         "Academia",
         "University of St.Gallen (HSG)",
         "School of Management (SoM-HSG)",
         "Research and teaching in business administration, strategy, and innovation.",
         "Business Strategy, Innovation, Leadership",
         "som@unisg.ch",
         "https://som.unisg.ch"
        ],
        [
         "1",
         "Academia",
         "University of St.Gallen (HSG)",
         "School of Finance (SoF-HSG)",
         "Research on financial markets, banking, corporate finance, and risk analysis.",
         "Banking, Corporate Finance, Risk Management",
         "sof@unisg.ch",
         "https://sof.unisg.ch"
        ],
        [
         "2",
         "Academia",
         "University of St.Gallen (HSG)",
         "School of Economics and Political Science (SEPS-HSG)",
         "Research on economic policy, macroeconomics, and global markets.",
         "Economic Policy, Macroeconomics, International Economics",
         "seps@unisg.ch",
         "https://seps.unisg.ch"
        ],
        [
         "3",
         "Academia",
         "University of St.Gallen (HSG)",
         "School of Law (LS-HSG)",
         "Legal research and education with a focus on business law.",
         "Business Law, Technology Law, Corporate Law",
         "law@unisg.ch",
         "https://law.unisg.ch"
        ],
        [
         "4",
         "Academia",
         "University of St.Gallen (HSG)",
         "School of Humanities and Social Sciences (SHSS-HSG)",
         "Interdisciplinary research on society, ethics, and culture.",
         "Ethics, Philosophy, Social Innovation",
         "shss@unisg.ch",
         "https://shss.unisg.ch"
        ]
       ],
       "shape": {
        "columns": 7,
        "rows": 5
       }
      },
      "text/html": [
       "<div>\n",
       "<style scoped>\n",
       "    .dataframe tbody tr th:only-of-type {\n",
       "        vertical-align: middle;\n",
       "    }\n",
       "\n",
       "    .dataframe tbody tr th {\n",
       "        vertical-align: top;\n",
       "    }\n",
       "\n",
       "    .dataframe thead th {\n",
       "        text-align: right;\n",
       "    }\n",
       "</style>\n",
       "<table border=\"1\" class=\"dataframe\">\n",
       "  <thead>\n",
       "    <tr style=\"text-align: right;\">\n",
       "      <th></th>\n",
       "      <th>Category</th>\n",
       "      <th>Institution</th>\n",
       "      <th>Name</th>\n",
       "      <th>Description</th>\n",
       "      <th>Focus Areas</th>\n",
       "      <th>Contact</th>\n",
       "      <th>Website</th>\n",
       "    </tr>\n",
       "  </thead>\n",
       "  <tbody>\n",
       "    <tr>\n",
       "      <th>0</th>\n",
       "      <td>Academia</td>\n",
       "      <td>University of St.Gallen (HSG)</td>\n",
       "      <td>School of Management (SoM-HSG)</td>\n",
       "      <td>Research and teaching in business administrati...</td>\n",
       "      <td>Business Strategy, Innovation, Leadership</td>\n",
       "      <td>som@unisg.ch</td>\n",
       "      <td>https://som.unisg.ch</td>\n",
       "    </tr>\n",
       "    <tr>\n",
       "      <th>1</th>\n",
       "      <td>Academia</td>\n",
       "      <td>University of St.Gallen (HSG)</td>\n",
       "      <td>School of Finance (SoF-HSG)</td>\n",
       "      <td>Research on financial markets, banking, corpor...</td>\n",
       "      <td>Banking, Corporate Finance, Risk Management</td>\n",
       "      <td>sof@unisg.ch</td>\n",
       "      <td>https://sof.unisg.ch</td>\n",
       "    </tr>\n",
       "    <tr>\n",
       "      <th>2</th>\n",
       "      <td>Academia</td>\n",
       "      <td>University of St.Gallen (HSG)</td>\n",
       "      <td>School of Economics and Political Science (SEP...</td>\n",
       "      <td>Research on economic policy, macroeconomics, a...</td>\n",
       "      <td>Economic Policy, Macroeconomics, International...</td>\n",
       "      <td>seps@unisg.ch</td>\n",
       "      <td>https://seps.unisg.ch</td>\n",
       "    </tr>\n",
       "    <tr>\n",
       "      <th>3</th>\n",
       "      <td>Academia</td>\n",
       "      <td>University of St.Gallen (HSG)</td>\n",
       "      <td>School of Law (LS-HSG)</td>\n",
       "      <td>Legal research and education with a focus on b...</td>\n",
       "      <td>Business Law, Technology Law, Corporate Law</td>\n",
       "      <td>law@unisg.ch</td>\n",
       "      <td>https://law.unisg.ch</td>\n",
       "    </tr>\n",
       "    <tr>\n",
       "      <th>4</th>\n",
       "      <td>Academia</td>\n",
       "      <td>University of St.Gallen (HSG)</td>\n",
       "      <td>School of Humanities and Social Sciences (SHSS...</td>\n",
       "      <td>Interdisciplinary research on society, ethics,...</td>\n",
       "      <td>Ethics, Philosophy, Social Innovation</td>\n",
       "      <td>shss@unisg.ch</td>\n",
       "      <td>https://shss.unisg.ch</td>\n",
       "    </tr>\n",
       "  </tbody>\n",
       "</table>\n",
       "</div>"
      ],
      "text/plain": [
       "   Category                    Institution  \\\n",
       "0  Academia  University of St.Gallen (HSG)   \n",
       "1  Academia  University of St.Gallen (HSG)   \n",
       "2  Academia  University of St.Gallen (HSG)   \n",
       "3  Academia  University of St.Gallen (HSG)   \n",
       "4  Academia  University of St.Gallen (HSG)   \n",
       "\n",
       "                                                Name  \\\n",
       "0                     School of Management (SoM-HSG)   \n",
       "1                        School of Finance (SoF-HSG)   \n",
       "2  School of Economics and Political Science (SEP...   \n",
       "3                             School of Law (LS-HSG)   \n",
       "4  School of Humanities and Social Sciences (SHSS...   \n",
       "\n",
       "                                         Description  \\\n",
       "0  Research and teaching in business administrati...   \n",
       "1  Research on financial markets, banking, corpor...   \n",
       "2  Research on economic policy, macroeconomics, a...   \n",
       "3  Legal research and education with a focus on b...   \n",
       "4  Interdisciplinary research on society, ethics,...   \n",
       "\n",
       "                                         Focus Areas        Contact  \\\n",
       "0          Business Strategy, Innovation, Leadership   som@unisg.ch   \n",
       "1        Banking, Corporate Finance, Risk Management   sof@unisg.ch   \n",
       "2  Economic Policy, Macroeconomics, International...  seps@unisg.ch   \n",
       "3        Business Law, Technology Law, Corporate Law   law@unisg.ch   \n",
       "4              Ethics, Philosophy, Social Innovation  shss@unisg.ch   \n",
       "\n",
       "                 Website  \n",
       "0   https://som.unisg.ch  \n",
       "1   https://sof.unisg.ch  \n",
       "2  https://seps.unisg.ch  \n",
       "3   https://law.unisg.ch  \n",
       "4  https://shss.unisg.ch  "
      ]
     },
     "execution_count": 2,
     "metadata": {},
     "output_type": "execute_result"
    }
   ],
   "source": [
    "# Load the dataset\n",
    "file_path = 'START Hack 25_Canton of St.Gallen_dataset innovation ecosystem.csv'\n",
    "df = pd.read_csv(file_path)\n",
    "\n",
    "# Display basic information about the dataset\n",
    "print(f\"Dataset Shape: {df.shape}\")\n",
    "df.head()"
   ]
  },
  {
   "cell_type": "code",
   "execution_count": null,
   "metadata": {},
   "outputs": [
    {
     "ename": "TypeError",
     "evalue": "unhashable type: 'list'",
     "output_type": "error",
     "traceback": [
      "\u001b[31m---------------------------------------------------------------------------\u001b[39m",
      "\u001b[31mTypeError\u001b[39m                                 Traceback (most recent call last)",
      "\u001b[36mCell\u001b[39m\u001b[36m \u001b[39m\u001b[32mIn[6]\u001b[39m\u001b[32m, line 4\u001b[39m\n\u001b[32m      1\u001b[39m \u001b[38;5;66;03m# convert 'Focus Areas' column to list\u001b[39;00m\n\u001b[32m      2\u001b[39m \n\u001b[32m      3\u001b[39m \u001b[38;5;66;03m# get unique values in 'Focus Areas' column\u001b[39;00m\n\u001b[32m----> \u001b[39m\u001b[32m4\u001b[39m focus_areas = \u001b[43mdf\u001b[49m\u001b[43m[\u001b[49m\u001b[33;43m'\u001b[39;49m\u001b[33;43mFocus Areas\u001b[39;49m\u001b[33;43m'\u001b[39;49m\u001b[43m]\u001b[49m\u001b[43m.\u001b[49m\u001b[43munique\u001b[49m\u001b[43m(\u001b[49m\u001b[43m)\u001b[49m\n",
      "\u001b[36mFile \u001b[39m\u001b[32m~/anaconda3/envs/start_hack/lib/python3.13/site-packages/pandas/core/series.py:2407\u001b[39m, in \u001b[36mSeries.unique\u001b[39m\u001b[34m(self)\u001b[39m\n\u001b[32m   2344\u001b[39m \u001b[38;5;28;01mdef\u001b[39;00m\u001b[38;5;250m \u001b[39m\u001b[34munique\u001b[39m(\u001b[38;5;28mself\u001b[39m) -> ArrayLike:  \u001b[38;5;66;03m# pylint: disable=useless-parent-delegation\u001b[39;00m\n\u001b[32m   2345\u001b[39m \u001b[38;5;250m    \u001b[39m\u001b[33;03m\"\"\"\u001b[39;00m\n\u001b[32m   2346\u001b[39m \u001b[33;03m    Return unique values of Series object.\u001b[39;00m\n\u001b[32m   2347\u001b[39m \n\u001b[32m   (...)\u001b[39m\u001b[32m   2405\u001b[39m \u001b[33;03m    Categories (3, object): ['a' < 'b' < 'c']\u001b[39;00m\n\u001b[32m   2406\u001b[39m \u001b[33;03m    \"\"\"\u001b[39;00m\n\u001b[32m-> \u001b[39m\u001b[32m2407\u001b[39m     \u001b[38;5;28;01mreturn\u001b[39;00m \u001b[38;5;28;43msuper\u001b[39;49m\u001b[43m(\u001b[49m\u001b[43m)\u001b[49m\u001b[43m.\u001b[49m\u001b[43munique\u001b[49m\u001b[43m(\u001b[49m\u001b[43m)\u001b[49m\n",
      "\u001b[36mFile \u001b[39m\u001b[32m~/anaconda3/envs/start_hack/lib/python3.13/site-packages/pandas/core/base.py:1025\u001b[39m, in \u001b[36mIndexOpsMixin.unique\u001b[39m\u001b[34m(self)\u001b[39m\n\u001b[32m   1023\u001b[39m     result = values.unique()\n\u001b[32m   1024\u001b[39m \u001b[38;5;28;01melse\u001b[39;00m:\n\u001b[32m-> \u001b[39m\u001b[32m1025\u001b[39m     result = \u001b[43malgorithms\u001b[49m\u001b[43m.\u001b[49m\u001b[43munique1d\u001b[49m\u001b[43m(\u001b[49m\u001b[43mvalues\u001b[49m\u001b[43m)\u001b[49m\n\u001b[32m   1026\u001b[39m \u001b[38;5;28;01mreturn\u001b[39;00m result\n",
      "\u001b[36mFile \u001b[39m\u001b[32m~/anaconda3/envs/start_hack/lib/python3.13/site-packages/pandas/core/algorithms.py:401\u001b[39m, in \u001b[36munique\u001b[39m\u001b[34m(values)\u001b[39m\n\u001b[32m    307\u001b[39m \u001b[38;5;28;01mdef\u001b[39;00m\u001b[38;5;250m \u001b[39m\u001b[34munique\u001b[39m(values):\n\u001b[32m    308\u001b[39m \u001b[38;5;250m    \u001b[39m\u001b[33;03m\"\"\"\u001b[39;00m\n\u001b[32m    309\u001b[39m \u001b[33;03m    Return unique values based on a hash table.\u001b[39;00m\n\u001b[32m    310\u001b[39m \n\u001b[32m   (...)\u001b[39m\u001b[32m    399\u001b[39m \u001b[33;03m    array([('a', 'b'), ('b', 'a'), ('a', 'c')], dtype=object)\u001b[39;00m\n\u001b[32m    400\u001b[39m \u001b[33;03m    \"\"\"\u001b[39;00m\n\u001b[32m--> \u001b[39m\u001b[32m401\u001b[39m     \u001b[38;5;28;01mreturn\u001b[39;00m \u001b[43munique_with_mask\u001b[49m\u001b[43m(\u001b[49m\u001b[43mvalues\u001b[49m\u001b[43m)\u001b[49m\n",
      "\u001b[36mFile \u001b[39m\u001b[32m~/anaconda3/envs/start_hack/lib/python3.13/site-packages/pandas/core/algorithms.py:440\u001b[39m, in \u001b[36munique_with_mask\u001b[39m\u001b[34m(values, mask)\u001b[39m\n\u001b[32m    438\u001b[39m table = hashtable(\u001b[38;5;28mlen\u001b[39m(values))\n\u001b[32m    439\u001b[39m \u001b[38;5;28;01mif\u001b[39;00m mask \u001b[38;5;129;01mis\u001b[39;00m \u001b[38;5;28;01mNone\u001b[39;00m:\n\u001b[32m--> \u001b[39m\u001b[32m440\u001b[39m     uniques = \u001b[43mtable\u001b[49m\u001b[43m.\u001b[49m\u001b[43munique\u001b[49m\u001b[43m(\u001b[49m\u001b[43mvalues\u001b[49m\u001b[43m)\u001b[49m\n\u001b[32m    441\u001b[39m     uniques = _reconstruct_data(uniques, original.dtype, original)\n\u001b[32m    442\u001b[39m     \u001b[38;5;28;01mreturn\u001b[39;00m uniques\n",
      "\u001b[36mFile \u001b[39m\u001b[32mpandas/_libs/hashtable_class_helper.pxi:7248\u001b[39m, in \u001b[36mpandas._libs.hashtable.PyObjectHashTable.unique\u001b[39m\u001b[34m()\u001b[39m\n",
      "\u001b[36mFile \u001b[39m\u001b[32mpandas/_libs/hashtable_class_helper.pxi:7195\u001b[39m, in \u001b[36mpandas._libs.hashtable.PyObjectHashTable._unique\u001b[39m\u001b[34m()\u001b[39m\n",
      "\u001b[31mTypeError\u001b[39m: unhashable type: 'list'"
     ]
    }
   ],
   "source": [
    "# convert 'Focus Areas' column to list"
   ]
  },
  {
   "cell_type": "code",
   "execution_count": null,
   "metadata": {},
   "outputs": [],
   "source": []
  }
 ],
 "metadata": {
  "kernelspec": {
   "display_name": "start_hack",
   "language": "python",
   "name": "python3"
  },
  "language_info": {
   "codemirror_mode": {
    "name": "ipython",
    "version": 3
   },
   "file_extension": ".py",
   "mimetype": "text/x-python",
   "name": "python",
   "nbconvert_exporter": "python",
   "pygments_lexer": "ipython3",
   "version": "3.13.2"
  }
 },
 "nbformat": 4,
 "nbformat_minor": 2
}
